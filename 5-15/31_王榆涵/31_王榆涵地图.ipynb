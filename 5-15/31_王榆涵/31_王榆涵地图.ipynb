{
 "cells": [
  {
   "cell_type": "code",
   "execution_count": 8,
   "metadata": {},
   "outputs": [
    {
     "data": {
      "text/plain": [
       "'C:\\\\qwer123.html'"
      ]
     },
     "execution_count": 8,
     "metadata": {},
     "output_type": "execute_result"
    }
   ],
   "source": [
    "from pyecharts.charts import Map\n",
    "from pyecharts import options as opts\n",
    "\n",
    "\n",
    "value_1 = [155, 10, 66, 78, 44, 38, 88, 50, 20]\n",
    "attr_1 = [\"福建\",\"山东\",\"北京\",\"上海\",\"江西\",\"新疆\",\"内蒙古\",\"云南\",\"重庆\"]\n",
    "value_2 = [200, 100, 166, 78, 144, 38, 88, 150, 120]\n",
    "attr_2 = [\"辽宁\",\"广东\",\"广西\",\"青海\",\"甘肃\",\"新疆\",\"内蒙古\",\"云南\",\"重庆\"]\n",
    "def map_visualmap():\n",
    "    c = (\n",
    "        Map()\n",
    "        .add(\"商家A\", [list(z) for z in zip(attr_1, value_1)],\"china\")\n",
    "        .add(\"商家b\", [list(z) for z in zip(attr_2, value_2)],\"china\")\n",
    "        .set_global_opts(\n",
    "            title_opts=opts.TitleOpts(title=\"Map-VisualMap（连续型）\"),\n",
    "            visualmap_opts=opts.VisualMapOpts(max_=200,is_piecewise=True)\n",
    "        )\n",
    "    )\n",
    "    return c\n",
    "a = map_visualmap()\n",
    "a.render(r\"C:\\qwer123.html\")"
   ]
  },
  {
   "cell_type": "code",
   "execution_count": 12,
   "metadata": {},
   "outputs": [
    {
     "data": {
      "text/plain": [
       "'C:\\\\qwer1234.html'"
      ]
     },
     "execution_count": 12,
     "metadata": {},
     "output_type": "execute_result"
    }
   ],
   "source": [
    "from pyecharts.charts import Map\n",
    "from pyecharts import options as opts\n",
    "\n",
    "\n",
    "value_1 = [21,3,1,2,1,3,1,1,2]\n",
    "attr_1 = [\"浙江\",\"安徽\",\"福建\",\"甘肃\",\"广西\",\"贵州\",\"河北\",\"河南\",\"湖北\"]\n",
    "value_2 = [3,3,2]\n",
    "attr_2 = [\"江西\",\"山西\",\"四川\"]\n",
    "def map_visualmap():\n",
    "    c = (\n",
    "        Map()\n",
    "        .add(\"商家A\", [list(z) for z in zip(attr_1, value_1)],\"china\")\n",
    "        .add(\"商家b\", [list(z) for z in zip(attr_2, value_2)],\"china\")\n",
    "        .set_global_opts(\n",
    "            title_opts=opts.TitleOpts(title=\"Map-VisualMap（连续型）\"),\n",
    "            visualmap_opts=opts.VisualMapOpts(max_=200,is_piecewise=True)\n",
    "        )\n",
    "    )\n",
    "    return c\n",
    "a = map_visualmap()\n",
    "a.render(r\"C:\\qwer1234.html\")"
   ]
  },
  {
   "cell_type": "code",
   "execution_count": null,
   "metadata": {},
   "outputs": [],
   "source": []
  },
  {
   "cell_type": "code",
   "execution_count": null,
   "metadata": {},
   "outputs": [],
   "source": []
  }
 ],
 "metadata": {
  "kernelspec": {
   "display_name": "Python 3",
   "language": "python",
   "name": "python3"
  },
  "language_info": {
   "codemirror_mode": {
    "name": "ipython",
    "version": 3
   },
   "file_extension": ".py",
   "mimetype": "text/x-python",
   "name": "python",
   "nbconvert_exporter": "python",
   "pygments_lexer": "ipython3",
   "version": "3.7.1"
  }
 },
 "nbformat": 4,
 "nbformat_minor": 2
}
