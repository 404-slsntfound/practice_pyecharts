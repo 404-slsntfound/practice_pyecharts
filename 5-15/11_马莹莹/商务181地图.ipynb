{
 "cells": [
  {
   "cell_type": "code",
   "execution_count": 6,
   "metadata": {},
   "outputs": [
    {
     "data": {
      "text/plain": [
       "'C:\\\\zgdt\\\\3.html'"
      ]
     },
     "execution_count": 6,
     "metadata": {},
     "output_type": "execute_result"
    }
   ],
   "source": [
    "from pyecharts.charts import Map\n",
    "\n",
    "from pyecharts import options as opts\n",
    "\n",
    "\n",
    "\n",
    "value_1 = [3,1,2,1,3,1,1,2,3,2,2,21]\n",
    "\n",
    "attr_1 = [\"安徽\",\"福建\",\"甘肃\",\"广西\",\"贵州\",\"河北\",\"河南\",\"湖北\",\"江西\",\"山西\",\"四川\",\"浙江\"]\n",
    "\n",
    "\n",
    "def map_visualmap():\n",
    "\n",
    "    c = (\n",
    "\n",
    "        Map()\n",
    "\n",
    "        .add(\"商数181\", [list(z) for z in zip(attr_1, value_1)],\"china\")\n",
    "        .set_global_opts(\n",
    "\n",
    "            title_opts=opts.TitleOpts(title=\"Map-VisualMap（连续型）\"),\n",
    "\n",
    "            visualmap_opts=opts.VisualMapOpts(max_=21,is_piecewise=True)\n",
    "\n",
    "        )\n",
    "\n",
    "    )\n",
    "\n",
    "    return c\n",
    "\n",
    "a = map_visualmap()\n",
    "\n",
    "a.render(r\"C:\\zgdt\\3.html\")"
   ]
  },
  {
   "cell_type": "code",
   "execution_count": null,
   "metadata": {},
   "outputs": [],
   "source": []
  }
 ],
 "metadata": {
  "kernelspec": {
   "display_name": "Python 3",
   "language": "python",
   "name": "python3"
  },
  "language_info": {
   "codemirror_mode": {
    "name": "ipython",
    "version": 3
   },
   "file_extension": ".py",
   "mimetype": "text/x-python",
   "name": "python",
   "nbconvert_exporter": "python",
   "pygments_lexer": "ipython3",
   "version": "3.7.1"
  }
 },
 "nbformat": 4,
 "nbformat_minor": 2
}
