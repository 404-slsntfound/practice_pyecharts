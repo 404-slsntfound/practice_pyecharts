{
 "cells": [
  {
   "cell_type": "code",
   "execution_count": 4,
   "metadata": {},
   "outputs": [
    {
     "data": {
      "text/plain": [
       "'C:\\\\zgdt\\\\1.html'"
      ]
     },
     "execution_count": 4,
     "metadata": {},
     "output_type": "execute_result"
    }
   ],
   "source": [
    "from pyecharts.charts import Map\n",
    "\n",
    "from pyecharts import options as opts\n",
    "\n",
    "\n",
    "\n",
    "value_1 = [155, 10, 66, 78, 44, 38, 88, 50, 20]\n",
    "\n",
    "attr_1 = [\"福建\",\"山东\",\"北京\",\"上海\",\"江西\",\"新疆\",\"内蒙古\",\"云南\",\"重庆\"]\n",
    "\n",
    "value_2 = [200, 100, 166, 78, 144, 38, 88, 150, 120]\n",
    "\n",
    "attr_2 = [\"辽宁\",\"广东\",\"广西\",\"青海\",\"甘肃\",\"新疆\",\"内蒙古\",\"云南\",\"重庆\"]\n",
    "\n",
    "def map_visualmap():\n",
    "\n",
    "    c = (\n",
    "\n",
    "        Map()\n",
    "\n",
    "        .add(\"商家A\", [list(z) for z in zip(attr_1, value_1)],\"china\")\n",
    "\n",
    "        .add(\"商家b\", [list(z) for z in zip(attr_2, value_2)],\"china\")\n",
    "\n",
    "        .set_global_opts(\n",
    "\n",
    "            title_opts=opts.TitleOpts(title=\"Map-VisualMap（连续型）\"),\n",
    "\n",
    "            visualmap_opts=opts.VisualMapOpts(max_=200,is_piecewise=True)\n",
    "\n",
    "        )\n",
    "\n",
    "    )\n",
    "\n",
    "    return c\n",
    "\n",
    "a = map_visualmap()\n",
    "\n",
    "a.render(r\"C:\\zgdt\\1.html\")"
   ]
  },
  {
   "cell_type": "code",
   "execution_count": null,
   "metadata": {},
   "outputs": [],
   "source": []
  }
 ],
 "metadata": {
  "kernelspec": {
   "display_name": "Python 3",
   "language": "python",
   "name": "python3"
  },
  "language_info": {
   "codemirror_mode": {
    "name": "ipython",
    "version": 3
   },
   "file_extension": ".py",
   "mimetype": "text/x-python",
   "name": "python",
   "nbconvert_exporter": "python",
   "pygments_lexer": "ipython3",
   "version": "3.7.1"
  }
 },
 "nbformat": 4,
 "nbformat_minor": 2
}
